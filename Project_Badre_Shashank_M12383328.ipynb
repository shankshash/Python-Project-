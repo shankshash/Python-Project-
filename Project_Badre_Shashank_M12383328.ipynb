{
 "cells": [
  {
   "cell_type": "markdown",
   "metadata": {},
   "source": [
    "### The goal of this project is to understand the wine ratings in terms of taste, value and popularity based on different types of wine such as Red wine, White wine etc."
   ]
  },
  {
   "cell_type": "code",
   "execution_count": 40,
   "metadata": {},
   "outputs": [],
   "source": [
    "import pandas as pd\n",
    "import numpy as np"
   ]
  },
  {
   "cell_type": "markdown",
   "metadata": {},
   "source": [
    "I have used pandas and numpy libraries and imported it as modules to use certian functionalities defined in these packages."
   ]
  },
  {
   "cell_type": "markdown",
   "metadata": {},
   "source": [
    "Pandas library is used to read data in jupyter notebook."
   ]
  },
  {
   "cell_type": "code",
   "execution_count": 41,
   "metadata": {},
   "outputs": [],
   "source": [
    "# using pandas I have used red-excel function to read excel data here\n",
    "wine = pd.read_excel('WineRating.xls')"
   ]
  },
  {
   "cell_type": "markdown",
   "metadata": {},
   "source": [
    "Let us look at first 5 rows in the wine data set."
   ]
  },
  {
   "cell_type": "code",
   "execution_count": 42,
   "metadata": {},
   "outputs": [
    {
     "data": {
      "text/html": [
       "<div>\n",
       "<style scoped>\n",
       "    .dataframe tbody tr th:only-of-type {\n",
       "        vertical-align: middle;\n",
       "    }\n",
       "\n",
       "    .dataframe tbody tr th {\n",
       "        vertical-align: top;\n",
       "    }\n",
       "\n",
       "    .dataframe thead th {\n",
       "        text-align: right;\n",
       "    }\n",
       "</style>\n",
       "<table border=\"1\" class=\"dataframe\">\n",
       "  <thead>\n",
       "    <tr style=\"text-align: right;\">\n",
       "      <th></th>\n",
       "      <th>WineName</th>\n",
       "      <th>Store</th>\n",
       "      <th>Variety</th>\n",
       "      <th>Type</th>\n",
       "      <th>Cost</th>\n",
       "      <th>Review</th>\n",
       "      <th>ReviewDate</th>\n",
       "      <th>TasteRating</th>\n",
       "      <th>ValueRating</th>\n",
       "    </tr>\n",
       "  </thead>\n",
       "  <tbody>\n",
       "    <tr>\n",
       "      <th>0</th>\n",
       "      <td>2008 Oreana Syrah Project Happiness</td>\n",
       "      <td>Whole Foods</td>\n",
       "      <td>Syrah</td>\n",
       "      <td>Red</td>\n",
       "      <td>5.99</td>\n",
       "      <td>Skip It</td>\n",
       "      <td>2011-02-18</td>\n",
       "      <td>3</td>\n",
       "      <td>10.0</td>\n",
       "    </tr>\n",
       "    <tr>\n",
       "      <th>1</th>\n",
       "      <td>2009 Aquila d'Oro Toscana</td>\n",
       "      <td>Wine Merchant</td>\n",
       "      <td>Blend</td>\n",
       "      <td>Red</td>\n",
       "      <td>3.99</td>\n",
       "      <td>Skip It</td>\n",
       "      <td>2011-06-08</td>\n",
       "      <td>3</td>\n",
       "      <td>10.0</td>\n",
       "    </tr>\n",
       "    <tr>\n",
       "      <th>2</th>\n",
       "      <td>2008 Estancia Cabernet Sauvignon</td>\n",
       "      <td>Costco</td>\n",
       "      <td>Cabernet Sauvignon</td>\n",
       "      <td>Red</td>\n",
       "      <td>10.99</td>\n",
       "      <td>Skip It</td>\n",
       "      <td>2011-02-24</td>\n",
       "      <td>4</td>\n",
       "      <td>7.0</td>\n",
       "    </tr>\n",
       "    <tr>\n",
       "      <th>3</th>\n",
       "      <td>2008 Pure Love Wines Shiraz Layer Cake</td>\n",
       "      <td>Whole Foods</td>\n",
       "      <td>Shiraz</td>\n",
       "      <td>Red</td>\n",
       "      <td>11.99</td>\n",
       "      <td>Skip It</td>\n",
       "      <td>2011-02-24</td>\n",
       "      <td>4</td>\n",
       "      <td>7.0</td>\n",
       "    </tr>\n",
       "    <tr>\n",
       "      <th>4</th>\n",
       "      <td>2009 Bodegas Don Miguel Gascón Malbec</td>\n",
       "      <td>Wine Merchant</td>\n",
       "      <td>Malbec</td>\n",
       "      <td>Red</td>\n",
       "      <td>10.99</td>\n",
       "      <td>Skip It</td>\n",
       "      <td>2011-03-21</td>\n",
       "      <td>4</td>\n",
       "      <td>7.0</td>\n",
       "    </tr>\n",
       "  </tbody>\n",
       "</table>\n",
       "</div>"
      ],
      "text/plain": [
       "                                 WineName          Store             Variety  \\\n",
       "0     2008 Oreana Syrah Project Happiness    Whole Foods               Syrah   \n",
       "1               2009 Aquila d'Oro Toscana  Wine Merchant               Blend   \n",
       "2        2008 Estancia Cabernet Sauvignon         Costco  Cabernet Sauvignon   \n",
       "3  2008 Pure Love Wines Shiraz Layer Cake    Whole Foods              Shiraz   \n",
       "4   2009 Bodegas Don Miguel Gascón Malbec  Wine Merchant              Malbec   \n",
       "\n",
       "  Type   Cost   Review ReviewDate  TasteRating  ValueRating  \n",
       "0  Red   5.99  Skip It 2011-02-18            3         10.0  \n",
       "1  Red   3.99  Skip It 2011-06-08            3         10.0  \n",
       "2  Red  10.99  Skip It 2011-02-24            4          7.0  \n",
       "3  Red  11.99  Skip It 2011-02-24            4          7.0  \n",
       "4  Red  10.99  Skip It 2011-03-21            4          7.0  "
      ]
     },
     "execution_count": 42,
     "metadata": {},
     "output_type": "execute_result"
    }
   ],
   "source": [
    "# head function will give the top records in the winequalit data set\n",
    "wine.head(5)"
   ]
  },
  {
   "cell_type": "markdown",
   "metadata": {},
   "source": [
    "Info() function gives the structure of the data including the data type for each column used in the table."
   ]
  },
  {
   "cell_type": "code",
   "execution_count": 43,
   "metadata": {},
   "outputs": [
    {
     "name": "stdout",
     "output_type": "stream",
     "text": [
      "<class 'pandas.core.frame.DataFrame'>\n",
      "RangeIndex: 838 entries, 0 to 837\n",
      "Data columns (total 9 columns):\n",
      "WineName       838 non-null object\n",
      "Store          838 non-null object\n",
      "Variety        838 non-null object\n",
      "Type           838 non-null object\n",
      "Cost           838 non-null float64\n",
      "Review         838 non-null object\n",
      "ReviewDate     838 non-null datetime64[ns]\n",
      "TasteRating    838 non-null int64\n",
      "ValueRating    837 non-null float64\n",
      "dtypes: datetime64[ns](1), float64(2), int64(1), object(5)\n",
      "memory usage: 59.0+ KB\n"
     ]
    }
   ],
   "source": [
    "wine.info()"
   ]
  },
  {
   "cell_type": "markdown",
   "metadata": {},
   "source": [
    "##### Below function calculates the average of values. Below function catches error if user inputs invalid data type\n"
   ]
  },
  {
   "cell_type": "code",
   "execution_count": 44,
   "metadata": {},
   "outputs": [],
   "source": [
    "\n",
    "def average(*args):\n",
    "    try:\n",
    "        p = 0\n",
    "        summ = 0\n",
    "        for i in args:\n",
    "            summ += i\n",
    "            p = p + 1\n",
    "        c = summ/p\n",
    "        return c\n",
    "    except TypeError:\n",
    "        print('One or more of your provided values is of the wrong type')\n",
    "    pass\n",
    "        \n",
    "\n",
    "#print(average(8.7,6.8,9.0))\n",
    "\n",
    "args = wine['ValueRating'].tolist()\n",
    "#print(average(1,2,4,5))\n",
    "#print(args))\n",
    "#print (type(wine['ValueRating']))\n",
    "#print (type(args[0]))\n",
    "\n",
    "#print (average(*args))\n",
    "    "
   ]
  },
  {
   "cell_type": "markdown",
   "metadata": {},
   "source": [
    "Below line of code provides us the number of null values in each individual column withtin wine table.\n",
    "It can be seen that ValueRating has 1 null value "
   ]
  },
  {
   "cell_type": "code",
   "execution_count": 45,
   "metadata": {},
   "outputs": [
    {
     "data": {
      "text/plain": [
       "WineName       0\n",
       "Store          0\n",
       "Variety        0\n",
       "Type           0\n",
       "Cost           0\n",
       "Review         0\n",
       "ReviewDate     0\n",
       "TasteRating    0\n",
       "ValueRating    1\n",
       "dtype: int64"
      ]
     },
     "execution_count": 45,
     "metadata": {},
     "output_type": "execute_result"
    }
   ],
   "source": [
    "# Calculate sum of null values within each column\n",
    "wine.isnull().sum()"
   ]
  },
  {
   "cell_type": "markdown",
   "metadata": {},
   "source": [
    "dropna() function allows us to drop null values in rows. After dropping null values I have got new table wine_redefined that does not have any null values"
   ]
  },
  {
   "cell_type": "code",
   "execution_count": 46,
   "metadata": {},
   "outputs": [],
   "source": [
    "wine_refined = wine.dropna()"
   ]
  },
  {
   "cell_type": "markdown",
   "metadata": {},
   "source": [
    "Let us check null values in wine_refined data set"
   ]
  },
  {
   "cell_type": "code",
   "execution_count": 47,
   "metadata": {},
   "outputs": [
    {
     "data": {
      "text/plain": [
       "WineName       0\n",
       "Store          0\n",
       "Variety        0\n",
       "Type           0\n",
       "Cost           0\n",
       "Review         0\n",
       "ReviewDate     0\n",
       "TasteRating    0\n",
       "ValueRating    0\n",
       "dtype: int64"
      ]
     },
     "execution_count": 47,
     "metadata": {},
     "output_type": "execute_result"
    }
   ],
   "source": [
    "wine_refined.isnull().sum()"
   ]
  },
  {
   "cell_type": "markdown",
   "metadata": {},
   "source": [
    "Let us look at the average of Value Rating column. Average rating for a wine is 6.759 on a scale of 10"
   ]
  },
  {
   "cell_type": "code",
   "execution_count": 48,
   "metadata": {},
   "outputs": [
    {
     "name": "stdout",
     "output_type": "stream",
     "text": [
      "6.7592592592592595\n"
     ]
    }
   ],
   "source": [
    "# I have used average function that is defined above and the value_rating (list) is an input to the average function\n",
    "value_rating = wine_refined['ValueRating'].tolist()\n",
    "print (average(*value_rating))"
   ]
  },
  {
   "cell_type": "markdown",
   "metadata": {},
   "source": [
    "Let us look at the average of Taste Rating column. Average rating for a wine is 7.6 on a scale of 10"
   ]
  },
  {
   "cell_type": "code",
   "execution_count": 49,
   "metadata": {},
   "outputs": [
    {
     "name": "stdout",
     "output_type": "stream",
     "text": [
      "7.602150537634409\n"
     ]
    }
   ],
   "source": [
    "# I have used average function that is defined above and the taste_rating (list) is an input to the average function\n",
    "taste_rating = wine_refined['TasteRating'].tolist()\n",
    "print (average(*taste_rating))"
   ]
  },
  {
   "cell_type": "markdown",
   "metadata": {},
   "source": [
    "Let us look at the average of Cost column. Average Cost for a wine is $13.43."
   ]
  },
  {
   "cell_type": "code",
   "execution_count": 50,
   "metadata": {},
   "outputs": [
    {
     "name": "stdout",
     "output_type": "stream",
     "text": [
      "13.43364396654704\n"
     ]
    }
   ],
   "source": [
    "cost = wine_refined['Cost'].tolist()\n",
    "print (average(*cost))"
   ]
  },
  {
   "cell_type": "markdown",
   "metadata": {},
   "source": [
    "#### In the original dataset Winename column consists of concatenated strings of year and wine name. I have separeated year part from this string and created separate columns of year and wine name."
   ]
  },
  {
   "cell_type": "code",
   "execution_count": 51,
   "metadata": {},
   "outputs": [],
   "source": [
    "# Converting panda series into a list\n",
    "winename = wine_refined['WineName'].tolist()\n",
    "\n",
    "# Splitting the string into a list of items\n",
    "year = []\n",
    "title = []\n",
    "for k in winename:\n",
    "    splitting = k.split(\" \")\n",
    "    year.append(splitting[0])\n",
    "    title.append(splitting[1:])\n",
    "\n",
    "# Joining the items in the list into a string\n",
    "titles = []\n",
    "for i in title:\n",
    "    p = \" \".join(str(x) for x in i)\n",
    "    titles.append(p)\n",
    "    \n",
    "# Converting list of items in a panda series\n",
    "years = pd.Series(year)\n",
    "titles_1 = pd.Series(titles)\n",
    "#print(titles_1)\n",
    "#print(years)\n",
    "#print(type(titles))\n",
    "#print(type(titles))"
   ]
  },
  {
   "cell_type": "markdown",
   "metadata": {},
   "source": [
    "#### I have derived new column Popularity which is an addition of ValueRating and TasteRating column.  Popularity is measured on a scale of 20. Higher the score of a wine type then higher the popularity of that wine."
   ]
  },
  {
   "cell_type": "code",
   "execution_count": 52,
   "metadata": {},
   "outputs": [],
   "source": [
    "Popularity = wine_refined['TasteRating'] + wine_refined['ValueRating']"
   ]
  },
  {
   "cell_type": "markdown",
   "metadata": {},
   "source": [
    "##### I have created a fresh data set  wine_1 which is cleaned and does not have concatenated string. Using to_csv function I have written a .csv file."
   ]
  },
  {
   "cell_type": "code",
   "execution_count": 53,
   "metadata": {},
   "outputs": [
    {
     "name": "stdout",
     "output_type": "stream",
     "text": [
      "     Year                                          Wine_Name          Store  \\\n",
      "0    2008                     Oreana Syrah Project Happiness    Whole Foods   \n",
      "1    2009                               Aquila d'Oro Toscana  Wine Merchant   \n",
      "2    2008                        Estancia Cabernet Sauvignon         Costco   \n",
      "3    2008                  Pure Love Wines Shiraz Layer Cake    Whole Foods   \n",
      "4    2009                   Bodegas Don Miguel Gascón Malbec  Wine Merchant   \n",
      "5    2009                      Marqués de Montañana Garnacha     Total Wine   \n",
      "6    2009             Trader Joe's Growers Reserve Zinfandel     Total Wine   \n",
      "7    2007         Cantina Zaccagnini Montepulciano d'Abruzzo     Total Wine   \n",
      "8    2008            Caves do Salgueiral Douro Azul Portugal   Market Wines   \n",
      "9    2008  Chateau St Michelle Cabernet Sauvignon Indian ...  Wine Merchant   \n",
      "10   2008                   Epicuro Nero d'Avola Sicilia IGT   Trader Joe's   \n",
      "11   2008                  Padrillos Malbec (Ernesto Catena)   Trader Joe's   \n",
      "12   2008                           Piattelli Malbec Premium   Market Wines   \n",
      "13   2009                                      Alamos Malbec   Oakley Wines   \n",
      "14   2010         Bodegas San Martin Senorio de UNX Garnacha    Whole Foods   \n",
      "15   2011                               Woodbridge Sweet Red  Wine Merchant   \n",
      "16   2011                             Woodbridge Sweet White   Market Wines   \n",
      "17   2006                   Epicuro Salice Salentino Riserva     Total Wine   \n",
      "18   2007                           Monte Antico Toscana IGT     Total Wine   \n",
      "19   2007                                   Veramonte Primus     Total Wine   \n",
      "20   2008   Archeo Nero d'Avola Ruggero di Tasso Sicilia IGT          Other   \n",
      "21   2008                            Bodegas Exopto Big Bang   Market Wines   \n",
      "22   2008                  Epicuro Aglianico Beneventano IGT  Wine Merchant   \n",
      "23   2008                 Erath Pinot Noir Willamette Valley   Trader Joe's   \n",
      "24   2008            Francis Ford Coppola Black Label Claret     Total Wine   \n",
      "25   2008  Kirkland Signature Cabernet Sauvignon Napa Valley   Oakley Wines   \n",
      "26   2008                       Malón de Echaide Tinto Roble  Wine Merchant   \n",
      "27   2008                       Viña Seña Carménère Arboleda   Trader Joe's   \n",
      "28   2009     Big House The Usual Suspect Cabernet Sauvignon   Oakley Wines   \n",
      "29   2009                                      Chariot Gypsy          Other   \n",
      "..    ...                                                ...            ...   \n",
      "808  2009  Masi Agricola Costasera Amarone Della Valpolic...   Oakley Wines   \n",
      "809  2009                    Mira Winery Hyde Vineyard Syrah   Oakley Wines   \n",
      "810  2009                 Monte De Oro Cuvée De Oro Red Wine     Total Wine   \n",
      "811  2009                 Quinta Do Vallado Touriga Nacional  Wine Merchant   \n",
      "812  2009  Wine Guerrilla Forchini Vineyards Old Vine Zin...    Whole Foods   \n",
      "813  2009    Wine Guerrilla Harris-Kratka Vineyard Zinfandel  Wine Merchant   \n",
      "814  2010           Andrew Murray Vineyards Watch Hill Syrah     Total Wine   \n",
      "815  2010    Charming Gruner Veltliner Reserve by Laurenz V.   Market Wines   \n",
      "816  2010  Echelon Collection Series Russian River Valley...     Total Wine   \n",
      "817  2010                                       Eurynome Red    Whole Foods   \n",
      "818  2010                         Fox Run Vineyards Meritage   Market Wines   \n",
      "819  2010     Goldwater Wairau Valley Marlborough Pinot Noir     Total Wine   \n",
      "820  2010  Gracianna Zinfandel Russian River Valley Bacig...    Whole Foods   \n",
      "821  2010      Hahn Estates Santa Lucia Highlands Pinot Noir   Market Wines   \n",
      "822  2010                         Juris Pinot Noir Selection    Whole Foods   \n",
      "823  2010                     Perez Cruz Limited Edition Cot  Wine Merchant   \n",
      "824  2010       Ponzi Vineyards Willamette Valley Pinot Noir     Total Wine   \n",
      "825  2010  Robert Mondavi Winery Oakville District Napa V...   Market Wines   \n",
      "826  2010                       Rotie Cellars Northern Blend    Whole Foods   \n",
      "827  2010                                   Shatter Grenache   Trader Joe's   \n",
      "828  2010                      Tiefenbrunner Turmhof Lagrein    Whole Foods   \n",
      "829  2010                        Vinedos Aurora Petite Sirah    Whole Foods   \n",
      "830  2010          Vinum Cellars The Scrapper Cabernet Franc    Whole Foods   \n",
      "831  2010         Yarden HeightsWine Gewurztraminer Ice Wine  Wine Merchant   \n",
      "832  2011              Casa Silva Cool Coast Sauvignon Blanc   Trader Joe's   \n",
      "833  2011                                     Eurynome White    Whole Foods   \n",
      "834  2011                   Fields Family Wines Estate Syrah     Total Wine   \n",
      "835  2011                Sorelle Winery Bellezza Fra Barbera     Total Wine   \n",
      "836  2011              Tin Barn Vineyards Joon Rosé of Syrah  Wine Merchant   \n",
      "837   NaN                                                NaN  Wine Merchant   \n",
      "\n",
      "                Variety Wine_Type   Cost            Review ReviewDate  \\\n",
      "0                 Syrah       Red   5.99           Skip It 2011-02-18   \n",
      "1                 Blend       Red   3.99           Skip It 2011-06-08   \n",
      "2    Cabernet Sauvignon       Red  10.99           Skip It 2011-02-24   \n",
      "3                Shiraz       Red  11.99           Skip It 2011-02-24   \n",
      "4                Malbec       Red  10.99           Skip It 2011-03-21   \n",
      "5              Garnacha       Red   4.99           Skip It 2011-05-18   \n",
      "6             Zinfandel       Red   5.49           Skip It 2011-04-18   \n",
      "7         Montepulciano       Red  11.99           Skip It 2011-02-15   \n",
      "8                 Blend       Red   7.99    Second Chance? 2011-03-17   \n",
      "9    Cabernet Sauvignon       Red  13.49           Skip It 2011-02-24   \n",
      "10         Nero d'Avola       Red   5.99    Second Chance? 2011-04-26   \n",
      "11               Malbec       Red   9.99           Skip It 2011-02-24   \n",
      "12               Malbec       Red  12.99           Skip It 2011-04-02   \n",
      "13               Malbec       Red   7.99    Second Chance? 2011-02-21   \n",
      "14             Garnacha       Red   7.99    Second Chance? 2011-07-19   \n",
      "15                Blend       Red   5.99   Recommended Buy 2013-05-28   \n",
      "16                Blend     White   5.99   Recommended Buy 2013-05-28   \n",
      "17           Negroamaro       Red   5.99   Recommended Buy 2011-03-08   \n",
      "18                Blend       Red   8.99    Second Chance? 2011-04-11   \n",
      "19                Blend       Red  13.99    Second Chance? 2011-04-07   \n",
      "20         Nero d'Avola       Red   4.99   Recommended Buy 2011-02-14   \n",
      "21                Blend       Red  13.79   Recommended Buy 2012-12-27   \n",
      "22            Aglianico       Red   5.99   Recommended Buy 2011-02-16   \n",
      "23           Pinot Noir       Red  13.89    Second Chance? 2011-02-24   \n",
      "24   Cabernet Sauvignon       Red   9.99    Second Chance? 2011-02-09   \n",
      "25   Cabernet Sauvignon       Red  12.99    Second Chance? 2011-02-17   \n",
      "26             Garnacha       Red   1.50   Recommended Buy 2011-08-02   \n",
      "27            Carmenere       Red  13.99    Second Chance? 2011-02-11   \n",
      "28   Cabernet Sauvignon       Red   5.99   Recommended Buy 2011-08-09   \n",
      "29                Blend       Red   4.99   Recommended Buy 2011-03-31   \n",
      "..                  ...       ...    ...               ...        ...   \n",
      "808             Lagrein       Red  24.99  Saturday Splurge 2012-07-07   \n",
      "809             Amarone       Red  39.99  Saturday Splurge 2013-12-14   \n",
      "810               Syrah       Red  48.00  Saturday Splurge 2013-03-16   \n",
      "811               Blend       Red  22.00  Saturday Splurge 2013-04-27   \n",
      "812    Touriga Nacional       Red  41.99  Saturday Splurge 2013-08-03   \n",
      "813           Zinfandel       Red  30.00  Saturday Splurge 2012-01-21   \n",
      "814           Zinfandel       Red  26.99  Saturday Splurge 2012-02-25   \n",
      "815               Syrah       Red  22.99  Saturday Splurge 2012-04-28   \n",
      "816    Gruner Veltliner     White  23.99  Saturday Splurge 2012-11-10   \n",
      "817          Pinot Noir       Red  24.99  Saturday Splurge 2012-03-24   \n",
      "818               Blend       Red  26.99  Saturday Splurge 2013-08-17   \n",
      "819            Meritage       Red  39.99  Saturday Splurge 2013-03-09   \n",
      "820          Pinot Noir       Red  22.99  Saturday Splurge 2012-09-29   \n",
      "821           Zinfandel       Red  42.00  Saturday Splurge 2012-09-01   \n",
      "822          Pinot Noir       Red  21.99  Saturday Splurge 2012-12-01   \n",
      "823          Pinot Noir       Red  20.00  Saturday Splurge 2013-03-02   \n",
      "824              Malbec       Red  21.99  Saturday Splurge 2012-06-23   \n",
      "825          Pinot Noir       Red  23.99  Saturday Splurge 2014-01-04   \n",
      "826  Cabernet Sauvignon       Red  34.99  Saturday Splurge 2013-11-23   \n",
      "827               Blend       Red  34.99  Saturday Splurge 2013-02-09   \n",
      "828            Grenache       Red  23.99  Saturday Splurge 2012-10-13   \n",
      "829             Lagrein       Red  20.99  Saturday Splurge 2013-01-19   \n",
      "830        Petite Sirah       Red  20.99  Saturday Splurge 2014-03-01   \n",
      "831      Cabernet Franc       Red  24.99  Saturday Splurge 2013-12-07   \n",
      "832      Gewurztraminer   Dessert  22.99  Saturday Splurge 2012-12-29   \n",
      "833     Sauvignon Blanc     White  21.99  Saturday Splurge 2012-04-21   \n",
      "834             Roditis     White  19.99  Saturday Splurge 2013-08-17   \n",
      "835               Syrah       Red  21.99  Saturday Splurge 2014-02-22   \n",
      "836             Barbera       Red  22.99  Saturday Splurge 2013-07-20   \n",
      "837               Syrah      Rosé  21.99  Saturday Splurge 2013-01-05   \n",
      "\n",
      "     TasteRating  ValueRating  Popularity  \n",
      "0            3.0         10.0        13.0  \n",
      "1            3.0         10.0        13.0  \n",
      "2            4.0          7.0        11.0  \n",
      "3            4.0          7.0        11.0  \n",
      "4            4.0          7.0        11.0  \n",
      "5            4.0         10.0        14.0  \n",
      "6            4.0         10.0        14.0  \n",
      "7            5.0          7.0        12.0  \n",
      "8            5.0          9.0        14.0  \n",
      "9            5.0          6.0        11.0  \n",
      "10           5.0         10.0        15.0  \n",
      "11           5.0          8.0        13.0  \n",
      "12           5.0          6.0        11.0  \n",
      "13           5.0          9.0        14.0  \n",
      "14           5.0          9.0        14.0  \n",
      "15           6.0         10.0        16.0  \n",
      "16           6.0         10.0        16.0  \n",
      "17           6.0         10.0        16.0  \n",
      "18           6.0          8.0        14.0  \n",
      "19           6.0          6.0        12.0  \n",
      "20           6.0         10.0        16.0  \n",
      "21           6.0          7.5        13.5  \n",
      "22           6.0         10.0        16.0  \n",
      "23           6.0          6.0        12.0  \n",
      "24           6.0          8.0        14.0  \n",
      "25           6.0          6.0        12.0  \n",
      "26           6.0         10.0        16.0  \n",
      "27           6.0          6.0        12.0  \n",
      "28           6.0         10.0        16.0  \n",
      "29           6.0         10.0        16.0  \n",
      "..           ...          ...         ...  \n",
      "808          7.0          7.0        14.0  \n",
      "809          7.0          7.0        14.0  \n",
      "810          7.0          7.0        14.0  \n",
      "811          7.0          7.0        14.0  \n",
      "812          7.0          7.0        14.0  \n",
      "813          7.0          7.0        14.0  \n",
      "814          7.0          7.0        14.0  \n",
      "815          7.0          7.0        14.0  \n",
      "816          7.0          7.0        14.0  \n",
      "817          7.0          7.0        14.0  \n",
      "818          7.0          7.0        14.0  \n",
      "819          7.0          7.0        14.0  \n",
      "820          7.0          7.0        14.0  \n",
      "821          5.0          7.0        12.0  \n",
      "822          5.0          7.0        12.0  \n",
      "823          5.0          7.0        12.0  \n",
      "824          5.0          7.0        12.0  \n",
      "825          5.0          7.0        12.0  \n",
      "826          5.0          7.0        12.0  \n",
      "827          5.0          7.0        12.0  \n",
      "828          5.0          7.0        12.0  \n",
      "829          5.0          7.0        12.0  \n",
      "830          5.0          7.0        12.0  \n",
      "831          5.0          7.0        12.0  \n",
      "832          5.0          7.0        12.0  \n",
      "833          5.0          7.0        12.0  \n",
      "834          5.0          7.0        12.0  \n",
      "835          5.0          7.0        12.0  \n",
      "836          5.0          7.0        12.0  \n",
      "837          5.0          7.0        12.0  \n",
      "\n",
      "[838 rows x 11 columns]\n"
     ]
    }
   ],
   "source": [
    "wine_1 = pd.concat([years, titles_1, wine_refined.loc[:,'Store':], Popularity], axis = 1).rename(columns={0:'Year',1: 'Wine_Name', 'Type':'Wine_Type', 2:'Popularity'})\n",
    "print (wine_1)\n",
    "wine_1.to_csv('Refined_Winery_Dataset.csv')"
   ]
  },
  {
   "cell_type": "code",
   "execution_count": 54,
   "metadata": {},
   "outputs": [],
   "source": [
    "top_10 = wine_1.sort_values('Popularity', ascending= False).head(10)"
   ]
  },
  {
   "cell_type": "markdown",
   "metadata": {},
   "source": [
    "### wine_1 dataset is sorted in a descending order based on popularity column and let us look at top 10 popular wines."
   ]
  },
  {
   "cell_type": "code",
   "execution_count": 55,
   "metadata": {},
   "outputs": [
    {
     "name": "stdout",
     "output_type": "stream",
     "text": [
      "     Year                                          Wine_Name          Store  \\\n",
      "621  2008             Willamette Valley Vineyards Pinot Noir    Whole Foods   \n",
      "435  2010               Château Bonnet Entre-Deux-Mers White  Wine Merchant   \n",
      "706  2011         Bonny Doon Vineyard Central Coast Albarino     Total Wine   \n",
      "668  2010           Fuse Wine Napa Valley Cabernet Sauvignon          Other   \n",
      "754  2004                                Cyan La Calera Toro     Total Wine   \n",
      "464  2010             Lucien Albrecht Gewurztraminer Reserve  Wine Merchant   \n",
      "691  2010                       San Polo Rosso di Montalcino     Total Wine   \n",
      "689  2010  Robert Mondavi Winery Napa Valley Cabernet Sau...   Market Wines   \n",
      "555  2012                       Cline Cellars Mourvedre Rosé     Total Wine   \n",
      "256  2011    Mezzacorona Pinot Grigio Vigneti delle Dolomiti    Whole Foods   \n",
      "\n",
      "          Variety Wine_Type   Cost           Review ReviewDate  TasteRating  \\\n",
      "621         Blend       Red   5.99         Bulk Buy 2011-02-19          9.0   \n",
      "435       Moscato   Dessert   4.99         Bulk Buy 2012-03-05          8.0   \n",
      "706      Garnacha       Red   7.99         Bulk Buy 2013-05-07          9.0   \n",
      "668      Garnacha       Red   7.99         Bulk Buy 2012-07-13          9.0   \n",
      "754    Pinot Noir       Red  17.99         Bulk Buy 2014-01-28         10.0   \n",
      "464      Garnacha       Red   5.99         Bulk Buy 2012-11-08          8.0   \n",
      "691         Blend       Red   6.99         Bulk Buy 2013-03-30          9.0   \n",
      "689         Syrah       Red   7.99         Bulk Buy 2013-08-21          9.0   \n",
      "555     Zinfandel       Red   7.99         Bulk Buy 2013-11-01          8.0   \n",
      "256  Pinot Grigio     White   5.99  Recommended Buy 2013-03-05          7.0   \n",
      "\n",
      "     ValueRating  Popularity  \n",
      "621         10.0        19.0  \n",
      "435         10.0        18.0  \n",
      "706          9.0        18.0  \n",
      "668          9.0        18.0  \n",
      "754          8.0        18.0  \n",
      "464         10.0        18.0  \n",
      "691          9.0        18.0  \n",
      "689          9.0        18.0  \n",
      "555          9.0        17.0  \n",
      "256         10.0        17.0  \n"
     ]
    }
   ],
   "source": [
    "print (top_10)"
   ]
  },
  {
   "cell_type": "markdown",
   "metadata": {},
   "source": [
    "##### Let us look at the average of TasteRating for each of the wine type. I have converted pandas series into a list and will use the list to visualize bar chart.\n"
   ]
  },
  {
   "cell_type": "code",
   "execution_count": 56,
   "metadata": {},
   "outputs": [
    {
     "name": "stdout",
     "output_type": "stream",
     "text": [
      "[['Cider Wine', 'Dessert', 'Port', 'Red', 'Rosé', 'Sparkling', 'White'], [8.0, 7.625, 7.8, 7.643356643356643, 7.516129032258065, 7.5, 7.5]]\n"
     ]
    }
   ],
   "source": [
    "hh = wine_1.groupby('Wine_Type')[['TasteRating']].mean().reset_index()\n",
    "\n",
    "wine_type = hh.iloc[:,[0]]['Wine_Type'].tolist()\n",
    "taste = hh.iloc[:,[1]]['TasteRating'].tolist()\n",
    "\n",
    "type_taste_rating = [wine_type, taste]\n",
    "print(type_taste_rating)\n"
   ]
  },
  {
   "cell_type": "markdown",
   "metadata": {},
   "source": [
    "##### Let us look at the average of ValueRating for each of the wine type. I have converted pandas series into a list and will use the list to visualize bar chart."
   ]
  },
  {
   "cell_type": "code",
   "execution_count": 57,
   "metadata": {},
   "outputs": [
    {
     "name": "stdout",
     "output_type": "stream",
     "text": [
      "[['Cider Wine', 'Dessert', 'Port', 'Red', 'Rosé', 'Sparkling', 'White'], [6.0, 6.375, 4.4, 6.658216783216783, 7.0, 7.115384615384615, 7.051546391752577]]\n"
     ]
    }
   ],
   "source": [
    "hh1 = wine_1.groupby('Wine_Type')[['ValueRating']].mean().reset_index()\n",
    "\n",
    "wine_type1 = hh1.iloc[:,[0]]['Wine_Type'].tolist()\n",
    "value = hh1.iloc[:,[1]]['ValueRating'].tolist()\n",
    "\n",
    "type_value_rating = [wine_type1, value]\n",
    "print(type_value_rating)\n"
   ]
  },
  {
   "cell_type": "markdown",
   "metadata": {},
   "source": [
    "##### Let us look at the Average Cost for each of the wine type. I have converted pandas series into a list and will use the list to visualize bar chart."
   ]
  },
  {
   "cell_type": "code",
   "execution_count": 58,
   "metadata": {},
   "outputs": [
    {
     "name": "stdout",
     "output_type": "stream",
     "text": [
      "[['Cider Wine', 'Dessert', 'Port', 'Red', 'Rosé', 'Sparkling', 'White'], [11.99, 14.364999999999997, 18.79, 14.044562937062809, 12.11935483870968, 11.336153846153849, 11.954484536082468]]\n"
     ]
    }
   ],
   "source": [
    "hh2 = wine_1.groupby('Wine_Type')[['Cost']].mean().reset_index()\n",
    "\n",
    "wine_type2 = hh2.iloc[:,[0]]['Wine_Type'].tolist()\n",
    "cost = hh2.iloc[:,[1]]['Cost'].tolist()\n",
    "\n",
    "type_cost_rating = [wine_type2, cost]\n",
    "print(type_cost_rating)\n"
   ]
  },
  {
   "cell_type": "markdown",
   "metadata": {},
   "source": [
    "Let us import matplotlib to visualize bar charts"
   ]
  },
  {
   "cell_type": "code",
   "execution_count": 59,
   "metadata": {},
   "outputs": [],
   "source": [
    "import matplotlib.pyplot as plt"
   ]
  },
  {
   "cell_type": "code",
   "execution_count": 60,
   "metadata": {},
   "outputs": [
    {
     "data": {
      "image/png": "[encoded data removed]",
      "text/plain": [
       "<matplotlib.figure.Figure at 0x2b8589b8ba8>"
      ]
     },
     "metadata": {},
     "output_type": "display_data"
    }
   ],
   "source": [
    "plt.bar(type_cost_rating[0], type_cost_rating[1], facecolor = 'y')\n",
    "plt.ylim(0,19)\n",
    "plt.xlabel('Wine Type')\n",
    "plt.ylabel('Average Cost')\n",
    "plt.title('Average Cost by Wine type')\n",
    "plt.show()"
   ]
  },
  {
   "cell_type": "markdown",
   "metadata": {},
   "source": [
    "##### Above bar chart shows that average cost is highest for Port Wine type. Sparkling wine type has low average cost of all wine types."
   ]
  },
  {
   "cell_type": "code",
   "execution_count": 61,
   "metadata": {},
   "outputs": [
    {
     "data": {
      "image/png": "[encoded data removed]",
      "text/plain": [
       "<matplotlib.figure.Figure at 0x2b85899e470>"
      ]
     },
     "metadata": {},
     "output_type": "display_data"
    }
   ],
   "source": [
    "plt.bar(type_value_rating[0], type_value_rating[1])\n",
    "plt.ylim(3,8)\n",
    "plt.xlabel('Wine Type')\n",
    "plt.ylabel('Average Value Rating')\n",
    "plt.title('Average value rating by Wine type')\n",
    "plt.show()"
   ]
  },
  {
   "cell_type": "markdown",
   "metadata": {},
   "source": [
    "##### Above bar chart shows that average value rating is highest for Sparkling Wine type. Port wine type has low average average value rating of all wine types."
   ]
  },
  {
   "cell_type": "code",
   "execution_count": 62,
   "metadata": {},
   "outputs": [
    {
     "data": {
      "image/png": "[encoded data removed]",
      "text/plain": [
       "<matplotlib.figure.Figure at 0x2b857910cf8>"
      ]
     },
     "metadata": {},
     "output_type": "display_data"
    }
   ],
   "source": [
    "plt.bar(type_taste_rating[0], type_taste_rating[1], facecolor = 'g')\n",
    "plt.ylim(6,8.5)\n",
    "plt.xlabel('Wine Type')\n",
    "plt.ylabel('Average Taste Rating')\n",
    "plt.title('Average Taste rating by Wine type')\n",
    "plt.show()"
   ]
  },
  {
   "cell_type": "markdown",
   "metadata": {},
   "source": [
    "##### Above bar chart shows that average taste rating is highest for Cider Wine type. "
   ]
  }
 ],
 "metadata": {
  "kernelspec": {
   "display_name": "Python 3",
   "language": "python",
   "name": "python3"
  },
  "language_info": {
   "codemirror_mode": {
    "name": "ipython",
    "version": 3
   },
   "file_extension": ".py",
   "mimetype": "text/x-python",
   "name": "python",
   "nbconvert_exporter": "python",
   "pygments_lexer": "ipython3",
   "version": "3.6.4"
  }
 },
 "nbformat": 4,
 "nbformat_minor": 2
}
